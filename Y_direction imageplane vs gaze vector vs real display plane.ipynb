{
 "cells": [
  {
   "cell_type": "code",
   "execution_count": 1,
   "metadata": {
    "collapsed": true
   },
   "outputs": [],
   "source": [
    "import numpy as np\n",
    "import matplotlib.pyplot as plt\n",
    "import pandas as pd"
   ]
  },
  {
   "cell_type": "code",
   "execution_count": 70,
   "metadata": {},
   "outputs": [],
   "source": [
    "# in z_y plane!!! mean X => z , Y => y\n",
    "### in this calcul, lens effect are eliminated!!! \n",
    "\n",
    "#put real screen center at y = 0, z = 0\n",
    "#lens are putted on z = lens distance from screen!!\n",
    "\n",
    "\n",
    "res = 11 # resolution of screen\n",
    "###___________#____________#__________#________#_____#_______#\n",
    "lens_dist = 5           #distance from lens to screen\n",
    "theta = 0.1 * np.pi     # shooting degree, y_direction,\n",
    "cam_dist = 10           # distance from lens to camera!!! \n",
    "cam_wd = 8              # camera working distance!!\n",
    "scr_h = 8              # height of the real screen!!\n",
    "rad_eye = 1.1          #radius of the eye!!\n",
    "#___________________________________________________________#\n",
    "eye_z  = 5\n",
    "eye_y  = 0\n",
    "\n",
    "\n",
    "cam_z = -np.cos(theta)*cam_dist+lens_dist\n",
    "cam_y = -np.sin(theta)*cam_dist\n",
    "\n",
    "scr_h_ar = np.linspace(-scr_h*0.5,scr_h*0.5,num = res)\n",
    "scr_z_ar = np.zeros_like(scr_h_ar)\n",
    "gaze_on_eye_z = gaze_on_eye_y = np.zeros_like(scr_h_ar)\n",
    "\n",
    "gaze_on_eye_z = eye_z + (scr_z_ar - eye_z)*rad_eye/np.sqrt((eye_z - scr_z_ar) **2 + (eye_y - scr_h_ar)**2)\n",
    "gaze_on_eye_y = eye_y + (scr_h_ar - eye_y)*rad_eye/np.sqrt((eye_z - scr_z_ar) **2 + (eye_y - scr_h_ar)**2)\n",
    "\n"
   ]
  },
  {
   "cell_type": "code",
   "execution_count": 78,
   "metadata": {},
   "outputs": [
    {
     "data": {
      "image/png": "[encoded data removed]",
      "text/plain": [
       "<matplotlib.figure.Figure at 0x10bd219e8>"
      ]
     },
     "metadata": {},
     "output_type": "display_data"
    }
   ],
   "source": [
    "circle = plt.Circle((eye_z, eye_y), rad_eye, color='y',alpha = 0.3)\n",
    "\n",
    "plt.figure(figsize=(10,10))\n",
    "\n",
    "ax = plt.gca()\n",
    "ax.cla() # clear things for fresh plot\n",
    "ax.plot([-cam_dist+lens_dist,lens_dist],[0,0])\n",
    "ax.plot([0,0],[-scr_h/2,scr_h/2],color=\"r\") # screen!!\n",
    "ax.scatter(scr_z_ar,scr_h_ar)    # gaze vector solution point at screen\n",
    "ax.scatter(gaze_on_eye_z,gaze_on_eye_y) # gaze vector solution point at eye\n",
    "ax.scatter(cam_z,cam_y,c=\"y\",marker=\"s\",s=200)     #camera!!! \n",
    "ax.add_artist(circle)\n",
    "plt.show()"
   ]
  },
  {
   "cell_type": "code",
   "execution_count": 22,
   "metadata": {
    "collapsed": true
   },
   "outputs": [],
   "source": []
  },
  {
   "cell_type": "code",
   "execution_count": null,
   "metadata": {
    "collapsed": true
   },
   "outputs": [],
   "source": []
  }
 ],
 "metadata": {
  "kernelspec": {
   "display_name": "Python 3",
   "language": "python",
   "name": "python3"
  },
  "language_info": {
   "codemirror_mode": {
    "name": "ipython",
    "version": 3
   },
   "file_extension": ".py",
   "mimetype": "text/x-python",
   "name": "python",
   "nbconvert_exporter": "python",
   "pygments_lexer": "ipython3",
   "version": "3.6.2"
  }
 },
 "nbformat": 4,
 "nbformat_minor": 2
}
