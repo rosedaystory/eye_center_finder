{
 "cells": [
  {
   "cell_type": "code",
   "execution_count": 1,
   "metadata": {
    "collapsed": true
   },
   "outputs": [],
   "source": [
    "import numpy as np\n",
    "import pandas as pd\n",
    "import matplotlib.pyplot as plt\n",
    "import numpy.linalg as lin\n",
    "\n",
    "def f(x,i):\n",
    "    return x * a[i] + c[i]\n",
    "    "
   ]
  },
  {
   "cell_type": "code",
   "execution_count": 6,
   "metadata": {},
   "outputs": [
    {
     "data": {
      "text/plain": [
       "4000"
      ]
     },
     "execution_count": 6,
     "metadata": {},
     "output_type": "execute_result"
    }
   ],
   "source": [
    "\n",
    "\"\"\"control factor of total number of lines!!\"\"\"\n",
    "ss = 20                 # total line number\n",
    "dens = 5               # point in dx is 1\n",
    "l_lim = -20            # lower limit of grid\n",
    "h_lim = 20             # upper limit of grid \n",
    "d_lim = h_lim - l_lim              ## do not need to change!!! # delta grid width\n",
    "\n",
    "x = np.linspace(l_lim,h_lim,d_lim*dens)\n",
    "y = np.ones((ss,d_lim*dens))\n",
    "\n",
    "\n",
    "f_y = np.ones([ss,d_lim*dens])\n",
    "f_y.size"
   ]
  },
  {
   "cell_type": "code",
   "execution_count": 19,
   "metadata": {},
   "outputs": [
    {
     "ename": "TypeError",
     "evalue": "'list' object cannot be interpreted as an integer",
     "output_type": "error",
     "traceback": [
      "\u001b[0;31m---------------------------------------------------------------------------\u001b[0m",
      "\u001b[0;31mTypeError\u001b[0m                                 Traceback (most recent call last)",
      "\u001b[0;32m<timed exec>\u001b[0m in \u001b[0;36m<module>\u001b[0;34m()\u001b[0m\n",
      "\u001b[0;32mmtrand.pyx\u001b[0m in \u001b[0;36mmtrand.RandomState.randn (numpy/random/mtrand/mtrand.c:19888)\u001b[0;34m()\u001b[0m\n",
      "\u001b[0;32mmtrand.pyx\u001b[0m in \u001b[0;36mmtrand.RandomState.standard_normal (numpy/random/mtrand/mtrand.c:20413)\u001b[0;34m()\u001b[0m\n",
      "\u001b[0;32mmtrand.pyx\u001b[0m in \u001b[0;36mmtrand.cont0_array (numpy/random/mtrand/mtrand.c:6141)\u001b[0;34m()\u001b[0m\n",
      "\u001b[0;31mTypeError\u001b[0m: 'list' object cannot be interpreted as an integer"
     ]
    }
   ],
   "source": [
    "%%time\n",
    "\n",
    "sol_len = 500\n",
    "\n",
    "sol_set = np.random.randn(2,sol_len)\n",
    "\n",
    "\n",
    "for tt in range(sol_len):\n",
    "    a = np.random.randn(ss,1) * 5\n",
    "    c =  np.random.randn(ss,1) * 20\n",
    "    for i in range(ss):\n",
    "        f_y[i] = x\n",
    "    \n",
    "    f_y = x * a + c\n",
    "    xx, yy = np.meshgrid(x,x)\n",
    "    sol = np.zeros((d_lim*dens,d_lim*dens))\n",
    "    sol.size\n",
    "    for i in range(d_lim*dens):\n",
    "        for j in range(d_lim*dens):\n",
    "            sol[i][j] = (  (np.abs(a)/np.sqrt(a*a+1))  *  np.abs(xx[i,j]-((yy[i,j]/a)-c/a ))  ).sum()\n",
    "\n",
    "    ii = (sol.argmin() // (d_lim*dens))\n",
    "    jj = sol.argmin() - (d_lim*dens * ii) \n",
    "\n",
    "\n",
    "\n",
    "    \"\"\" make the matrice of A\"\"\"\n",
    "    aa = np.ones((ss,2)).T\n",
    "    aa[0] = -a.reshape(1,-1)\n",
    "    A = aa.T\n",
    "\n",
    "    A_pse = lin.inv(np.dot(A.T,A))\n",
    "    ATA = np.dot(A_pse, A.T)\n",
    "    B = np.dot(ATA,c)\n",
    "    ans = np.array([x[jj], x[ii]])\n",
    "\n",
    "    sol_set[0][tt] = a.var()\n",
    "    sol_set[1][tt] = sol.min()"
   ]
  },
  {
   "cell_type": "code",
   "execution_count": null,
   "metadata": {},
   "outputs": [],
   "source": []
  },
  {
   "cell_type": "code",
   "execution_count": null,
   "metadata": {},
   "outputs": [],
   "source": []
  },
  {
   "cell_type": "code",
   "execution_count": null,
   "metadata": {
    "collapsed": true
   },
   "outputs": [],
   "source": []
  }
 ],
 "metadata": {
  "kernelspec": {
   "display_name": "Python 3",
   "language": "python",
   "name": "python3"
  },
  "language_info": {
   "codemirror_mode": {
    "name": "ipython",
    "version": 3
   },
   "file_extension": ".py",
   "mimetype": "text/x-python",
   "name": "python",
   "nbconvert_exporter": "python",
   "pygments_lexer": "ipython3",
   "version": "3.6.2"
  }
 },
 "nbformat": 4,
 "nbformat_minor": 2
}
